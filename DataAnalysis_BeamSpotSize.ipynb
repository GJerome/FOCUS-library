{
 "cells": [
  {
   "cell_type": "markdown",
   "metadata": {},
   "source": [
    "# Load the data in the folder"
   ]
  },
  {
   "cell_type": "code",
   "execution_count": null,
   "metadata": {},
   "outputs": [],
   "source": [
    "import numpy as np\n",
    "import glob\n",
    "\n",
    "\n",
    "\n",
    "Folder='./'\n",
    "DataNameBasis='/*Data'\n",
    "\n",
    "File=glob.glob(Folder+DataNameBasis+\"*txt\")\n",
    "data_temp=np.loadtxt(File[0],skiprows=1)\n",
    "ypos=data_temp[:,5]\n",
    "nb_angle=len(ypos)\n",
    "Data_numpyS1=data_temp[:,0]\n",
    "Data_numpyS1_std=data_temp[:,1]\n",
    "Data_numpyS2=data_temp[:,2]\n",
    "Data_numpyS2_std=data_temp[:,3]"
   ]
  },
  {
   "cell_type": "markdown",
   "metadata": {},
   "source": [
    "# Plot the Raw data"
   ]
  },
  {
   "cell_type": "code",
   "execution_count": null,
   "metadata": {},
   "outputs": [],
   "source": [
    "import matplotlib as mat\n",
    "import matplotlib.pyplot as plt\n",
    "\n",
    "\n",
    "cm = 1/2.54\n",
    "fig=plt.figure(figsize=(7*cm,5*cm))\n",
    "linewidth=0.5\n",
    "\n",
    "ax0 =plt.subplot(1,1,1)\n",
    "\n",
    "\n",
    "\n",
    "mat.rcParams.update({'font.size':12,'font.family':'sans-serif','font.sans-serif':['Arial'],\n",
    "                     'xtick.labelsize':9,'ytick.labelsize':9,'figure.dpi':300,'savefig.dpi':300})\n",
    "\n",
    "\n",
    "\n",
    "ax0.plot(ypos,(Data_numpyS1-Data_numpyS2)/np.max(Data_numpyS1-Data_numpyS2))\n",
    "\n",
    "ax0.fill_between(ypos, ((Data_numpyS1-Data_numpyS2)-(Data_numpyS1_std+Data_numpyS2_std))/np.max(Data_numpyS1-Data_numpyS2),\n",
    "                  ((Data_numpyS1-Data_numpyS2)+(Data_numpyS1_std+Data_numpyS2_std))/np.max(Data_numpyS1-Data_numpyS2), alpha=0.5)\n",
    "\n",
    "\n",
    "\n",
    "\n",
    "\n",
    "\n",
    "ax0.set_xlabel('y [mm]')\n",
    "ax0.set_ylabel('Normalised voltage[V]', wrap=True)\n",
    "\n",
    "plt.tight_layout()\n",
    "plt.savefig('RawData.png')"
   ]
  }
 ],
 "metadata": {
  "language_info": {
   "name": "python"
  }
 },
 "nbformat": 4,
 "nbformat_minor": 2
}
