{
 "cells": [
  {
   "cell_type": "code",
   "execution_count": 2,
   "metadata": {},
   "outputs": [
    {
     "name": "stdout",
     "output_type": "stream",
     "text": [
      " Peak power =5000.0W \n",
      " Energy per pulse = 5e-10 J\n",
      " \n",
      " Fluence=159.15494309189538 J/cm2 \n",
      " Fluence=0.00015915494309189535 J/mm2 \n",
      " Fluence=1.5915494309189535e-10 J/um2 \n",
      "\n",
      " Damage threshold objectives 0.00031622776601683794 J/cm for a beam of 0.001 mm in diameter\n"
     ]
    }
   ],
   "source": [
    "import numpy as np\n",
    "\n",
    "AveragedPower=2E-3 #power in W\n",
    "RepRate=4E6 # repetition rate in Hz\n",
    "BeamSize=1E-3 # Beam size in mm\n",
    "PulseWidth=100E-15 # pulse width in s\n",
    "\n",
    "Period=1/RepRate\n",
    "E_pulse=AveragedPower*Period\n",
    "Pusle_PeakPower=E_pulse/PulseWidth\n",
    "Fluence_mm=E_pulse/((np.pi*BeamSize**2))\n",
    "Fluence_um=E_pulse/((np.pi*BeamSize**2)*1E6)\n",
    "Fluence_cm=E_pulse/((np.pi*BeamSize**2)*1E-6)\n",
    "\n",
    "print(' Peak power ={}W \\n Energy per pulse = {} J\\n \\n Fluence={} J/cm2 \\n Fluence={} J/mm2 \\n Fluence={} J/um2 '.format(\n",
    "    Pusle_PeakPower,E_pulse,Fluence_cm,Fluence_mm,Fluence_um))\n",
    "\n",
    "DamageThreshold= 0.1 # Damage Thresshold in J/cm\n",
    "InitialPulseWidth=10E-9\n",
    "\n",
    "print('\\n Damage threshold objectives {} J/cm for a beam of {} mm in diameter'.format(DamageThreshold*np.sqrt(PulseWidth/InitialPulseWidth),BeamSize))"
   ]
  },
  {
   "cell_type": "code",
   "execution_count": 6,
   "metadata": {},
   "outputs": [
    {
     "name": "stdout",
     "output_type": "stream",
     "text": [
      "P_crit= 16706.410976194093[W]\n",
      "P_peak/P_c=34.417925000130175\n"
     ]
    }
   ],
   "source": [
    "# Critical power for WLG\n",
    "alpha=1.9\n",
    "lambdac=800\n",
    "n0=1.7552\n",
    "n2=3.3\n",
    "P_crit=alpha*lambdac**2/(4*np.pi*n0*n2)\n",
    "\n",
    "print('P_crit= {}[W]'.format(P_crit))\n",
    "print('P_peak/P_c={}'.format(Pusle_PeakPower/P_crit))"
   ]
  },
  {
   "cell_type": "code",
   "execution_count": 7,
   "metadata": {},
   "outputs": [
    {
     "name": "stdout",
     "output_type": "stream",
     "text": [
      "Adjusted LIDT : 0.07905694150420949\n"
     ]
    }
   ],
   "source": [
    "#Adjusted LIDT\n",
    "LIDT=25\n",
    "PulseWith_L=10E-9\n",
    "Wavelength_L=1064\n",
    "Wavelength=1064\n",
    "AdjustedLIdt=LIDT*np.sqrt(PulseWidth/PulseWith_L)*np.sqrt(Wavelength/Wavelength_L)\n",
    "print('Adjusted LIDT : {}'.format(AdjustedLIdt))\n"
   ]
  }
 ],
 "metadata": {
  "kernelspec": {
   "display_name": "Python 3",
   "language": "python",
   "name": "python3"
  },
  "language_info": {
   "codemirror_mode": {
    "name": "ipython",
    "version": 3
   },
   "file_extension": ".py",
   "mimetype": "text/x-python",
   "name": "python",
   "nbconvert_exporter": "python",
   "pygments_lexer": "ipython3",
   "version": "3.11.4"
  }
 },
 "nbformat": 4,
 "nbformat_minor": 2
}
