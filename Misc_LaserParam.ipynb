{
 "cells": [
  {
   "cell_type": "code",
   "execution_count": 26,
   "metadata": {},
   "outputs": [
    {
     "name": "stdout",
     "output_type": "stream",
     "text": [
      " Peak power =25000.0W \n",
      " Energy per pulse = 2.5e-10 J\n",
      " \n",
      " Fluence=250.00000000000003 J/cm2 \n",
      " Fluence=0.00025 J/mm2 \n",
      " Fluence=2.5e-10 J/um2 \n",
      "\n",
      " Damage threshold objectives 0.0001 J/cm for a beam of 0.001 mm in diameter\n"
     ]
    }
   ],
   "source": [
    "import numpy as np\n",
    "\n",
    "AveragedPower=1E-3 #power in W\n",
    "RepRate=4E6 # repetition rate in Hz\n",
    "BeamSize=1E-3 # Beam size in mm\n",
    "PulseWidth=10E-15 # pulse width in s\n",
    "\n",
    "Period=1/RepRate\n",
    "E_pulse=AveragedPower*Period\n",
    "Pusle_PeakPower=E_pulse/PulseWidth\n",
    "Fluence_mm=E_pulse/(BeamSize*BeamSize)\n",
    "Fluence_um=E_pulse/(BeamSize*BeamSize*1E6)\n",
    "Fluence_cm=E_pulse/(BeamSize*BeamSize*1E-6)\n",
    "\n",
    "print(' Peak power ={}W \\n Energy per pulse = {} J\\n \\n Fluence={} J/cm2 \\n Fluence={} J/mm2 \\n Fluence={} J/um2 '.format(\n",
    "    Pusle_PeakPower,E_pulse,Fluence_cm,Fluence_mm,Fluence_um))\n",
    "\n",
    "DamageThreshold= 0.1 # Damage Thresshold in J/cm\n",
    "InitialPulseWidth=10E-9\n",
    "\n",
    "print('\\n Damage threshold objectives {} J/cm for a beam of {} mm in diameter'.format(DamageThreshold*np.sqrt(PulseWidth/InitialPulseWidth),BeamSize))\n",
    "\n",
    "\n",
    "\n",
    "\n"
   ]
  }
 ],
 "metadata": {
  "kernelspec": {
   "display_name": "Python 3",
   "language": "python",
   "name": "python3"
  },
  "language_info": {
   "codemirror_mode": {
    "name": "ipython",
    "version": 3
   },
   "file_extension": ".py",
   "mimetype": "text/x-python",
   "name": "python",
   "nbconvert_exporter": "python",
   "pygments_lexer": "ipython3",
   "version": "3.11.3"
  }
 },
 "nbformat": 4,
 "nbformat_minor": 2
}
