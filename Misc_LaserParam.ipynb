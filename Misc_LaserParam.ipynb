{
 "cells": [
  {
   "cell_type": "code",
   "execution_count": 10,
   "metadata": {},
   "outputs": [
    {
     "name": "stdout",
     "output_type": "stream",
     "text": [
      " Peak power =17999.999999999996W \n",
      " Energy per pulse = 1.7999999999999998e-09 J\n",
      " \n",
      " Fluence=0.0001432394487827058 J/cm2 \n",
      " Fluence=1.4323944878270578e-10 J/mm2 \n",
      " Fluence=1.432394487827058e-16 J/um2 \n",
      "\n",
      " Damage threshold objectives 0.00031622776601683794 J/cm for a beam of 2 mm in diameter\n"
     ]
    }
   ],
   "source": [
    "import numpy as np\n",
    "\n",
    "AveragedPower=7.2E-3 #power in W\n",
    "RepRate=4000E3 # repetition rate in Hz\n",
    "BeamSize=2 # Beam size in mm\n",
    "PulseWidth=100E-15 # pulse width in s\n",
    "\n",
    "Period=1/RepRate\n",
    "E_pulse=AveragedPower*Period\n",
    "Pusle_PeakPower=E_pulse/PulseWidth\n",
    "Fluence_mm=E_pulse/((np.pi*BeamSize**2))\n",
    "Fluence_um=E_pulse/((np.pi*BeamSize**2)*1E6)\n",
    "Fluence_cm=E_pulse/((np.pi*BeamSize**2)*1E-6)\n",
    "\n",
    "print(' Peak power ={}W \\n Energy per pulse = {} J\\n \\n Fluence={} J/cm2 \\n Fluence={} J/mm2 \\n Fluence={} J/um2 '.format(\n",
    "    Pusle_PeakPower,E_pulse,Fluence_cm,Fluence_mm,Fluence_um))\n",
    "\n",
    "DamageThreshold= 0.1 # Damage Thresshold in J/cm\n",
    "InitialPulseWidth=10E-9\n",
    "\n",
    "print('\\n Damage threshold objectives {} J/cm for a beam of {} mm in diameter'.format(DamageThreshold*np.sqrt(PulseWidth/InitialPulseWidth),BeamSize))"
   ]
  }
 ],
 "metadata": {
  "kernelspec": {
   "display_name": "Python 3",
   "language": "python",
   "name": "python3"
  },
  "language_info": {
   "codemirror_mode": {
    "name": "ipython",
    "version": 3
   },
   "file_extension": ".py",
   "mimetype": "text/x-python",
   "name": "python",
   "nbconvert_exporter": "python",
   "pygments_lexer": "ipython3",
   "version": "3.11.4"
  }
 },
 "nbformat": 4,
 "nbformat_minor": 2
}
