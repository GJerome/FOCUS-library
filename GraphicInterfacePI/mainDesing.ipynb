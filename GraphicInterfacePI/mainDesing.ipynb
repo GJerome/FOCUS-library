{
 "cells": [
  {
   "cell_type": "code",
   "execution_count": 11,
   "metadata": {},
   "outputs": [],
   "source": [
    "import tkinter as tk\n",
    "\n",
    "\n",
    "w=tk.Tk()\n",
    "wdth = w.winfo_screenwidth()\n",
    "hgt = w.winfo_screenheight()\n",
    "w.minsize(int(wdth/4),int(hgt/4))\n",
    "w.maxsize(wdth, hgt)\n",
    "w.geometry(\"{}x{}\".format(int(wdth/4),int(hgt/4)))\n",
    "\n",
    "w.update()"
   ]
  },
  {
   "cell_type": "code",
   "execution_count": 13,
   "metadata": {},
   "outputs": [],
   "source": [
    "#Different widget: label, button,entry,text,frame\n",
    "Text=tk.Text()\n",
    "w.update()"
   ]
  }
 ],
 "metadata": {
  "kernelspec": {
   "display_name": "Python 3",
   "language": "python",
   "name": "python3"
  },
  "language_info": {
   "codemirror_mode": {
    "name": "ipython",
    "version": 3
   },
   "file_extension": ".py",
   "mimetype": "text/x-python",
   "name": "python",
   "nbconvert_exporter": "python",
   "pygments_lexer": "ipython3",
   "version": "3.10.5"
  }
 },
 "nbformat": 4,
 "nbformat_minor": 2
}
