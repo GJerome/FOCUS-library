{
 "cells": [
  {
   "cell_type": "markdown",
   "metadata": {},
   "source": [
    "# Fluence calculator"
   ]
  },
  {
   "cell_type": "code",
   "execution_count": 7,
   "metadata": {},
   "outputs": [
    {
     "name": "stdout",
     "output_type": "stream",
     "text": [
      " Peak power =5000000.0W \n",
      " Energy per pulse = 5e-07 J\n",
      " \n",
      " Fluence=3.9788735772973834e-06 J/cm2 \n",
      " Fluence=3.978873577297383e-08 J/mm2 \n",
      " Fluence=3.9788735772973834e-14 J/um2 \n",
      "\n",
      " Damage threshold objectives 0.00031622776601683794 J/cm for a beam of 2 mm in diameter\n"
     ]
    }
   ],
   "source": [
    "import numpy as np\n",
    "\n",
    "AveragedPower=4#power in W\n",
    "RepRate=8E6 # repetition rate in Hz\n",
    "BeamSize=2# Beam radius size in mm\n",
    "PulseWidth=100E-15 # pulse width in s\n",
    "\n",
    "Period=1/RepRate\n",
    "E_pulse=AveragedPower*Period\n",
    "Pusle_PeakPower=E_pulse/PulseWidth\n",
    "Fluence_mm=E_pulse/((np.pi*BeamSize**2))\n",
    "Fluence_um=E_pulse/((np.pi*(BeamSize*1E3)**2))\n",
    "Fluence_cm=E_pulse/((np.pi*(BeamSize*1E-1)**2))\n",
    "\n",
    "print(' Peak power ={}W \\n Energy per pulse = {} J\\n \\n Fluence={} J/cm2 \\n Fluence={} J/mm2 \\n Fluence={} J/um2 '.format(\n",
    "    Pusle_PeakPower,E_pulse,Fluence_cm,Fluence_mm,Fluence_um))\n",
    "\n",
    "DamageThreshold= 0.1 # Damage Thresshold in J/cm\n",
    "InitialPulseWidth=10E-9\n",
    "\n",
    "print('\\n Damage threshold objectives {} J/cm for a beam of {} mm in diameter'.format(DamageThreshold*np.sqrt(PulseWidth/InitialPulseWidth),BeamSize))"
   ]
  },
  {
   "cell_type": "markdown",
   "metadata": {},
   "source": [
    "# White light calculator "
   ]
  },
  {
   "cell_type": "code",
   "execution_count": 108,
   "metadata": {},
   "outputs": [
    {
     "name": "stdout",
     "output_type": "stream",
     "text": [
      "P_crit= 175.8569576441483[W]\n",
      "P_peak/P_c=781.8854701116533\n",
      "Self-focusing distance s_f= 0.00023327386061962538m\n",
      "Rayleight length z_r= 0.017231635704940018m\n"
     ]
    }
   ],
   "source": [
    "# Critical power for WLG\n",
    "alpha=1\n",
    "lambdac=0.8E-6 #wavelength in m\n",
    "BeamSize=50E-6# Beam radius size in m\n",
    "\n",
    "n0=1.7552\n",
    "n2=3.3E-16\n",
    "P_crit=alpha*lambdac**2/(2*np.pi*n0*n2)\n",
    "zr=np.pi*n0*BeamSize**2/lambdac\n",
    "z_sf=0.367*zr/np.sqrt(((np.sqrt(Pusle_PeakPower/P_crit)-0.852))**2-0.0219)\n",
    "\n",
    "Rayleigth=np.pi*n0*BeamSize**2/lambdac\n",
    "\n",
    "print('P_crit= {}[W]'.format(P_crit))\n",
    "print('P_peak/P_c={}'.format(Pusle_PeakPower/P_crit))\n",
    "print('Self-focusing distance s_f= {}m'.format(z_sf))\n",
    "print('Rayleight length z_r= {}m'.format(Rayleigth))"
   ]
  },
  {
   "cell_type": "markdown",
   "metadata": {},
   "source": [
    "# Adjust LIDT"
   ]
  },
  {
   "cell_type": "code",
   "execution_count": 114,
   "metadata": {},
   "outputs": [
    {
     "name": "stdout",
     "output_type": "stream",
     "text": [
      "Adjusted LIDT : 0.0005484084971070817 J/cm2\n",
      "Current fluence: 1.0941902337567802e-07 J/cm2\n"
     ]
    }
   ],
   "source": [
    "#Adjusted LIDT\n",
    "LIDT=0.2\n",
    "PulseWith_L=10E-9\n",
    "Wavelength_L=1064\n",
    "Wavelength=800\n",
    "AdjustedLIdt=LIDT*np.sqrt(PulseWidth/PulseWith_L)*np.sqrt(Wavelength/Wavelength_L)\n",
    "print('Adjusted LIDT : {} J/cm2'.format(AdjustedLIdt))\n",
    "print('Current fluence: {} J/cm2'.format(Fluence_cm))\n"
   ]
  },
  {
   "cell_type": "markdown",
   "metadata": {},
   "source": [
    "# Focused Beam size "
   ]
  },
  {
   "cell_type": "code",
   "execution_count": 110,
   "metadata": {},
   "outputs": [
    {
     "name": "stdout",
     "output_type": "stream",
     "text": [
      "Beam diameter at the focus spot:\n",
      "\t d=0.032513445014357115mm\n",
      "\t d=32.51344501435712um\n",
      "DOF:\n",
      "\t d=1.3005378005742845mm\n",
      "\t d=1300.5378005742848um\n",
      "NA=0.04995839572194276\n"
     ]
    }
   ],
   "source": [
    "BeamSize=5E-3# Beam radius size in m at the lens\n",
    "f=100E-3 # focal distance of the lens in m\n",
    "lambdac=1064E-9 # wavelength in m\n",
    "M=1.2 # Beam quality factor\n",
    "NA=np.arctan(BeamSize/f)\n",
    "\n",
    "wo=4*M*lambdac*f/(np.pi*BeamSize)/2\n",
    "\n",
    "\n",
    "print('Beam diameter at the focus spot:\\n\\t d={}mm\\n\\t d={}um'.format(2*wo*1E3,2*wo*1E6))\n",
    "print('DOF:\\n\\t d={}mm\\n\\t d={}um'.format(2*np.pi*(wo*1E3)**2/(M*(lambdac*1E3)),2*np.pi*(wo*1E6)**2/(M*(lambdac*1E6))))\n",
    "print('NA={}'.format(str(np.arctan(BeamSize/f))))"
   ]
  },
  {
   "cell_type": "markdown",
   "metadata": {},
   "source": [
    "# Compute Irradiance"
   ]
  },
  {
   "cell_type": "code",
   "execution_count": 111,
   "metadata": {},
   "outputs": [
    {
     "name": "stdout",
     "output_type": "stream",
     "text": [
      "70028.17496043396\n"
     ]
    }
   ],
   "source": [
    "I=AveragedPower/((np.pi*(BeamSize*1E-1)**2))\n",
    "print(I)"
   ]
  }
 ],
 "metadata": {
  "kernelspec": {
   "display_name": "Python 3",
   "language": "python",
   "name": "python3"
  },
  "language_info": {
   "codemirror_mode": {
    "name": "ipython",
    "version": 3
   },
   "file_extension": ".py",
   "mimetype": "text/x-python",
   "name": "python",
   "nbconvert_exporter": "python",
   "pygments_lexer": "ipython3",
   "version": "3.11.3"
  }
 },
 "nbformat": 4,
 "nbformat_minor": 2
}
