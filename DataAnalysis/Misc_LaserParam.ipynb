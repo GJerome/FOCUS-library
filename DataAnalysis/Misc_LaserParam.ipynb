{
 "cells": [
  {
   "cell_type": "markdown",
   "metadata": {},
   "source": [
    "# Fluence calculator"
   ]
  },
  {
   "cell_type": "code",
   "execution_count": 2,
   "metadata": {},
   "outputs": [
    {
     "name": "stdout",
     "output_type": "stream",
     "text": [
      " Peak power =3.75W \n",
      " Energy per pulse = 3.75e-13 J\n",
      " \n",
      "Irradiance= 46.62742473395371 W/cm2\n",
      "\n",
      " Fluence=1.1656856183488427e-06 J/cm2 \n",
      " Fluence=1.165685618348843e-08 J/mm2 \n",
      " Fluence=1.1656856183488429e-14 J/um2 \n",
      "\n",
      " Damage threshold objectives 0.00031622776601683794 J/cm for a beam of 0.0032 mm in diameter\n"
     ]
    }
   ],
   "source": [
    "import numpy as np\n",
    "\n",
    "AveragedPower=15E-6#power in W\n",
    "RepRate=40E6# repetition rate in Hz\n",
    "BeamSize=3.2E-3# Beam radius size in mm\n",
    "PulseWidth=100E-15 # pulse width in s\n",
    "\n",
    "Period=1/RepRate\n",
    "E_pulse=AveragedPower*Period\n",
    "Pusle_PeakPower=E_pulse/PulseWidth\n",
    "Irradiance=AveragedPower/((np.pi*(BeamSize*1E-1)**2))\n",
    "Fluence_mm=E_pulse/((np.pi*BeamSize**2))\n",
    "Fluence_um=E_pulse/((np.pi*(BeamSize*1E3)**2))\n",
    "Fluence_cm=E_pulse/((np.pi*(BeamSize*1E-1)**2))\n",
    "\n",
    "print(' Peak power ={}W \\n Energy per pulse = {} J\\n \\nIrradiance= {} W/cm2\\n\\n Fluence={} J/cm2 \\n Fluence={} J/mm2 \\n Fluence={} J/um2 '.format(\n",
    "    Pusle_PeakPower,E_pulse,Irradiance,Fluence_cm,Fluence_mm,Fluence_um))\n",
    "\n",
    "DamageThreshold= 0.1 # Damage Thresshold in J/cm\n",
    "InitialPulseWidth=10E-9\n",
    "\n",
    "print('\\n Damage threshold objectives {} J/cm for a beam of {} mm in diameter'.format(DamageThreshold*np.sqrt(PulseWidth/InitialPulseWidth),BeamSize))"
   ]
  },
  {
   "cell_type": "code",
   "execution_count": 15,
   "metadata": {},
   "outputs": [
    {
     "name": "stdout",
     "output_type": "stream",
     "text": [
      "Dof=3.15124716553288e-06m\n"
     ]
    }
   ],
   "source": [
    "wave=550E-9\n",
    "NA=0.42\n",
    "M=50\n",
    "e=700E-9\n",
    "dtot=wave/NA**2+e/(M*NA)\n",
    "print('Dof={}m'.format(dtot))"
   ]
  },
  {
   "cell_type": "markdown",
   "metadata": {},
   "source": []
  },
  {
   "cell_type": "markdown",
   "metadata": {},
   "source": [
    "# ML Tools computation"
   ]
  },
  {
   "cell_type": "code",
   "execution_count": 16,
   "metadata": {},
   "outputs": [
    {
     "name": "stdout",
     "output_type": "stream",
     "text": [
      "Power send  to the sample: 3.0 uW\n"
     ]
    }
   ],
   "source": [
    "PowerMeasured=10 # Power in uw\n",
    "ND=0\n",
    "Bs=0.5\n",
    "ObjTrans=0.6\n",
    "print('Power send  to the sample: {} uW'.format((PowerMeasured*(10**(-ND))*Bs*ObjTrans)))"
   ]
  },
  {
   "cell_type": "markdown",
   "metadata": {},
   "source": [
    "# Compute density of carrier generated"
   ]
  },
  {
   "cell_type": "code",
   "execution_count": 35,
   "metadata": {},
   "outputs": [
    {
     "name": "stdout",
     "output_type": "stream",
     "text": [
      "Photon energy= 4.90e-19\n",
      "Number of photons in the beam = 2.55e+07\n",
      "Fluence #NbPhotons/cm^2=2.81e+14\n",
      "N_0 photogenerated carier density cm3^-1 = 3.61e+11\n"
     ]
    }
   ],
   "source": [
    "Wavelength=405E-9\n",
    "FilmThickness=560E-9\n",
    "Lifetime=100E-9\n",
    "Abs=0.72\n",
    "R=0.113\n",
    "\n",
    "AveragedPower=500E-6#power in W\n",
    "RepRate=40E6# repetition rate in Hz\n",
    "BeamSize=1.7E-3# Beam radius size in mm\n",
    "PulseWidth=100E-15 # pulse width in s\n",
    "\n",
    "Period=1/RepRate\n",
    "E_pulse=AveragedPower*Period\n",
    "\n",
    "Fluence_cm=E_pulse/((np.pi*(BeamSize*1E-1)**2))\n",
    "\n",
    "h=6.626*1E-34\n",
    "c=2.998*1E8\n",
    "E_photon=h*c/Wavelength\n",
    "\n",
    "Fluence_cm_Photons=Fluence_cm/E_photon\n",
    "\n",
    "N0=Fluence_cm_Photons/(FilmThickness*1E2)*(1-R)*(1-1/np.exp(1))/Abs# Convertion in cm3\n",
    "N0=Fluence_cm_Photons/(FilmThickness*1E2)*Abs*Lifetime# Convertion in cm3\n",
    "\n",
    "print('Photon energy= {:.2e}'.format(E_photon))\n",
    "print('Number of photons in the beam = {:.2e}'.format(E_pulse/E_photon))\n",
    "print('Fluence #NbPhotons/cm^2={:.2e}'.format(Fluence_cm_Photons))\n",
    "print('N_0 photogenerated carier density cm3^-1 = {:.2e}'.format(N0))"
   ]
  },
  {
   "cell_type": "code",
   "execution_count": 34,
   "metadata": {},
   "outputs": [
    {
     "name": "stdout",
     "output_type": "stream",
     "text": [
      "To reach 237.5 at 40.0 MHz the avg power need to be 0.9500000000000001 mW\n"
     ]
    }
   ],
   "source": [
    "Pusle_PeakPower=237.5# in W\n",
    "\n",
    "PowerToReachPeak=(Pusle_PeakPower*PulseWidth*RepRate)\n",
    "print('To reach {} at {} MHz the avg power need to be {} mW'.format(Pusle_PeakPower,RepRate/1E6,PowerToReachPeak*1E3))"
   ]
  },
  {
   "cell_type": "markdown",
   "metadata": {},
   "source": [
    "# Compute 1 sun equivalent"
   ]
  },
  {
   "cell_type": "code",
   "execution_count": 19,
   "metadata": {},
   "outputs": [
    {
     "name": "stdout",
     "output_type": "stream",
     "text": [
      "Power send  to the sample: 3.85e-09 uW\n",
      "7.885017680069186e-09\n",
      "3.85e-09\n"
     ]
    },
    {
     "data": {
      "image/png": "[encoded data removed]",
      "text/plain": [
       "<Figure size 640x480 with 1 Axes>"
      ]
     },
     "metadata": {},
     "output_type": "display_data"
    }
   ],
   "source": [
    "import matplotlib.pyplot as plt\n",
    "import pandas as pd\n",
    "PowerMeasured=11E-6 # Power in uw\n",
    "ND=3\n",
    "Bs=0.5\n",
    "ObjTrans=0.7\n",
    "BeamSize=1.7E-6\n",
    "\n",
    "AvgPower=(PowerMeasured*(10**(-ND))*Bs*ObjTrans)\n",
    "Irradiance=AveragedPower/((np.pi*(BeamSize)**2))\n",
    "\n",
    "AMGS=pd.read_excel('./astmg173.xls',header=1)\n",
    "fig,ax=plt.subplots(1,1)\n",
    "Spectrum=pd.Series(data=AMGS.iloc[:,1].to_numpy(),index=AMGS.iloc[:,0])\n",
    "BandgapWave=550\n",
    "ax.plot(Spectrum)\n",
    "ax.set_xlabel('Wavelength[nm]')\n",
    "ax.set_ylabel(AMGS.columns[1])\n",
    "print('Power send  to the sample: {} uW'.format(AvgPower))\n",
    "\n",
    "IrradianceSun=((np.pi*(BeamSize)**2))*np.trapezoid(Spectrum.loc[Spectrum.index>BandgapWave])\n",
    "print(IrradianceSun)\n",
    "print(AvgPower)"
   ]
  },
  {
   "cell_type": "markdown",
   "metadata": {},
   "source": [
    "# White light calculator "
   ]
  },
  {
   "cell_type": "code",
   "execution_count": 20,
   "metadata": {},
   "outputs": [
    {
     "name": "stdout",
     "output_type": "stream",
     "text": [
      "P_crit= 175.8569576441483[W]\n",
      "P_peak/P_c=1.350529448374674\n",
      "Self-focusing distance s_f= 3.712682578087935e-05m\n",
      "Rayleight length z_r= 2.7570617127904025e-05m\n"
     ]
    }
   ],
   "source": [
    "# Critical power for WLG\n",
    "alpha=1\n",
    "lambdac=0.8E-6 #wavelength in m\n",
    "BeamSize=2E-6# Beam radius size in m\n",
    "\n",
    "n0=1.7552\n",
    "n2=3.3E-16\n",
    "P_crit=alpha*lambdac**2/(2*np.pi*n0*n2)\n",
    "zr=np.pi*n0*BeamSize**2/lambdac\n",
    "z_sf=0.367*zr/np.sqrt(((np.sqrt(Pusle_PeakPower/P_crit)-0.852))**2-0.0219)\n",
    "\n",
    "Rayleigth=np.pi*n0*BeamSize**2/lambdac\n",
    "\n",
    "print('P_crit= {}[W]'.format(P_crit))\n",
    "print('P_peak/P_c={}'.format(Pusle_PeakPower/P_crit))\n",
    "print('Self-focusing distance s_f= {}m'.format(z_sf))\n",
    "print('Rayleight length z_r= {}m'.format(Rayleigth))"
   ]
  },
  {
   "cell_type": "markdown",
   "metadata": {},
   "source": [
    "# Adjust LIDT"
   ]
  },
  {
   "cell_type": "code",
   "execution_count": 21,
   "metadata": {},
   "outputs": [
    {
     "name": "stdout",
     "output_type": "stream",
     "text": [
      "Adjusted LIDT : 0.0005484084971070817 J/cm2\n",
      "Current fluence: 2.9919264204286963e-07 J/cm2\n"
     ]
    }
   ],
   "source": [
    "#Adjusted LIDT\n",
    "LIDT=0.2\n",
    "PulseWith_L=10E-9\n",
    "Wavelength_L=1064\n",
    "Wavelength=800\n",
    "AdjustedLIdt=LIDT*np.sqrt(PulseWidth/PulseWith_L)*np.sqrt(Wavelength/Wavelength_L)\n",
    "print('Adjusted LIDT : {} J/cm2'.format(AdjustedLIdt))\n",
    "print('Current fluence: {} J/cm2'.format(Fluence_cm))\n"
   ]
  },
  {
   "cell_type": "markdown",
   "metadata": {},
   "source": [
    "# Focused Beam size "
   ]
  },
  {
   "cell_type": "code",
   "execution_count": 22,
   "metadata": {},
   "outputs": [
    {
     "name": "stdout",
     "output_type": "stream",
     "text": [
      "Beam diameter at the focus spot:\n",
      "\t d=0.028520565802067646mm\n",
      "\t d=28.520565802067647um\n",
      "DOF:\n",
      "\t d=0.9126581056661647mm\n",
      "\t d=912.6581056661649um\n",
      "NA=0.06241880999595735\n"
     ]
    }
   ],
   "source": [
    "BeamSize=25E-3# Beam radius size in m at the lens\n",
    "f=400E-3 # focal distance of the lens in m\n",
    "lambdac=700E-9 # wavelength in m\n",
    "M=2 # Beam quality factor\n",
    "NA=np.arctan(BeamSize/f)\n",
    "\n",
    "wo=4*M*lambdac*f/(np.pi*BeamSize)/2\n",
    "\n",
    "\n",
    "print('Beam diameter at the focus spot:\\n\\t d={}mm\\n\\t d={}um'.format(2*wo*1E3,2*wo*1E6))\n",
    "print('DOF:\\n\\t d={}mm\\n\\t d={}um'.format(2*np.pi*(wo*1E3)**2/(M*(lambdac*1E3)),2*np.pi*(wo*1E6)**2/(M*(lambdac*1E6))))\n",
    "print('NA={}'.format(str(np.arctan(BeamSize/f))))"
   ]
  },
  {
   "cell_type": "markdown",
   "metadata": {},
   "source": [
    "# Compute Irradiance"
   ]
  },
  {
   "cell_type": "code",
   "execution_count": 23,
   "metadata": {},
   "outputs": [
    {
     "name": "stdout",
     "output_type": "stream",
     "text": [
      "Irradiance =442097064.14415365 W/cm2\n"
     ]
    }
   ],
   "source": [
    "AveragedPower=0.125E-3# Power in Watt\n",
    "BeamSize=3E-6# Beam radius size in m at the lens\n",
    "I=AveragedPower/((np.pi*(BeamSize*1E-1)**2))\n",
    "print('Irradiance ={} W/cm2'.format(I))"
   ]
  },
  {
   "cell_type": "markdown",
   "metadata": {},
   "source": [
    "# Wavelength Calibration Pixis"
   ]
  },
  {
   "cell_type": "code",
   "execution_count": 24,
   "metadata": {},
   "outputs": [],
   "source": [
    "#Compute wavelength\n",
    "a=2.354381287460651\n",
    "b=490.05901104995587\n",
    "PixelNumber=np.linspace(1,1024,1024)\n",
    "CenterPixel=700\n",
    "Wavelength=(PixelNumber-b)/a+CenterPixel"
   ]
  },
  {
   "cell_type": "markdown",
   "metadata": {},
   "source": [
    "# Misc"
   ]
  },
  {
   "cell_type": "code",
   "execution_count": 25,
   "metadata": {},
   "outputs": [
    {
     "name": "stdout",
     "output_type": "stream",
     "text": [
      "1002\n",
      "1001\n",
      "3\n",
      "1\n",
      "['c:/Document/Mes1x=40/', 'c:/Document/Mes3x=40/', 'c:/Document/Mes1001x=40/', 'c:/Document/Mes1002x=40/']\n"
     ]
    }
   ],
   "source": [
    "folder=['c:/Document/Mes1002x=40/','c:/Document/Mes1001x=40/','c:/Document/Mes3x=40/','c:/Document/Mes1x=40/']\n",
    "for t in folder:\n",
    "    print(t[t.find('Mes')+3:t.find('x')])\n",
    "print(sorted(folder, key=lambda x: float(x[x.find('Mes')+3:x.find('x')])))"
   ]
  },
  {
   "cell_type": "code",
   "execution_count": 26,
   "metadata": {},
   "outputs": [
    {
     "name": "stdout",
     "output_type": "stream",
     "text": [
      "[[0 0]\n",
      " [0 1]\n",
      " [1 0]]\n"
     ]
    }
   ],
   "source": [
    "x=[0,0,1]\n",
    "y=[0,1,0]\n",
    "\n",
    "Pos=np.transpose(np.array([x,y]))\n",
    "print(Pos)\n"
   ]
  }
 ],
 "metadata": {
  "kernelspec": {
   "display_name": "Python 3",
   "language": "python",
   "name": "python3"
  },
  "language_info": {
   "codemirror_mode": {
    "name": "ipython",
    "version": 3
   },
   "file_extension": ".py",
   "mimetype": "text/x-python",
   "name": "python",
   "nbconvert_exporter": "python",
   "pygments_lexer": "ipython3",
   "version": "3.11.4"
  }
 },
 "nbformat": 4,
 "nbformat_minor": 2
}
