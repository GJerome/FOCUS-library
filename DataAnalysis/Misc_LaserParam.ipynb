{
 "cells": [
  {
   "cell_type": "markdown",
   "metadata": {},
   "source": [
    "# Fluence calculator"
   ]
  },
  {
   "cell_type": "code",
   "execution_count": 1,
   "metadata": {},
   "outputs": [
    {
     "name": "stdout",
     "output_type": "stream",
     "text": [
      " Peak power =399.99999999999994W \n",
      " Energy per pulse = 4e-11 J\n",
      " \n",
      "Irradiance= 4.405673165173573 W/cm2\n",
      "\n",
      " Fluence=0.0004405673165173573 J/cm2 \n",
      " Fluence=4.405673165173573e-06 J/mm2 \n",
      " Fluence=4.405673165173574e-12 J/um2 \n",
      "\n",
      " Damage threshold objectives 0.00031622776601683794 J/cm for a beam of 0.0017 mm in diameter\n"
     ]
    }
   ],
   "source": [
    "import numpy as np\n",
    "\n",
    "AveragedPower=0.4E-6#power in W\n",
    "RepRate=10E3 # repetition rate in Hz\n",
    "BeamSize=1.7E-3# Beam radius size in mm\n",
    "PulseWidth=100E-15 # pulse width in s\n",
    "\n",
    "Period=1/RepRate\n",
    "E_pulse=AveragedPower*Period\n",
    "Pusle_PeakPower=E_pulse/PulseWidth\n",
    "Irradiance=AveragedPower/((np.pi*(BeamSize*1E-1)**2))\n",
    "Fluence_mm=E_pulse/((np.pi*BeamSize**2))\n",
    "Fluence_um=E_pulse/((np.pi*(BeamSize*1E3)**2))\n",
    "Fluence_cm=E_pulse/((np.pi*(BeamSize*1E-1)**2))\n",
    "\n",
    "print(' Peak power ={}W \\n Energy per pulse = {} J\\n \\nIrradiance= {} W/cm2\\n\\n Fluence={} J/cm2 \\n Fluence={} J/mm2 \\n Fluence={} J/um2 '.format(\n",
    "    Pusle_PeakPower,E_pulse,Irradiance,Fluence_cm,Fluence_mm,Fluence_um))\n",
    "\n",
    "DamageThreshold= 0.1 # Damage Thresshold in J/cm\n",
    "InitialPulseWidth=10E-9\n",
    "\n",
    "print('\\n Damage threshold objectives {} J/cm for a beam of {} mm in diameter'.format(DamageThreshold*np.sqrt(PulseWidth/InitialPulseWidth),BeamSize))"
   ]
  },
  {
   "cell_type": "code",
   "execution_count": null,
   "metadata": {},
   "outputs": [],
   "source": []
  },
  {
   "cell_type": "code",
   "execution_count": 35,
   "metadata": {},
   "outputs": [
    {
     "name": "stdout",
     "output_type": "stream",
     "text": [
      "To reach 237.5 at 2.58 MHz the avg power need to be 0.061274999999999996 mW\n"
     ]
    }
   ],
   "source": [
    "Pusle_PeakPower=237.5# in W\n",
    "\n",
    "PowerToReachPeak=(Pusle_PeakPower*PulseWidth*RepRate)\n",
    "print('To reach {} at {} MHz the avg power need to be {} mW'.format(Pusle_PeakPower,RepRate/1E6,PowerToReachPeak*1E3))"
   ]
  },
  {
   "cell_type": "markdown",
   "metadata": {},
   "source": [
    "# White light calculator "
   ]
  },
  {
   "cell_type": "code",
   "execution_count": 108,
   "metadata": {},
   "outputs": [
    {
     "name": "stdout",
     "output_type": "stream",
     "text": [
      "P_crit= 175.8569576441483[W]\n",
      "P_peak/P_c=781.8854701116533\n",
      "Self-focusing distance s_f= 0.00023327386061962538m\n",
      "Rayleight length z_r= 0.017231635704940018m\n"
     ]
    }
   ],
   "source": [
    "# Critical power for WLG\n",
    "alpha=1\n",
    "lambdac=0.8E-6 #wavelength in m\n",
    "BeamSize=50E-6# Beam radius size in m\n",
    "\n",
    "n0=1.7552\n",
    "n2=3.3E-16\n",
    "P_crit=alpha*lambdac**2/(2*np.pi*n0*n2)\n",
    "zr=np.pi*n0*BeamSize**2/lambdac\n",
    "z_sf=0.367*zr/np.sqrt(((np.sqrt(Pusle_PeakPower/P_crit)-0.852))**2-0.0219)\n",
    "\n",
    "Rayleigth=np.pi*n0*BeamSize**2/lambdac\n",
    "\n",
    "print('P_crit= {}[W]'.format(P_crit))\n",
    "print('P_peak/P_c={}'.format(Pusle_PeakPower/P_crit))\n",
    "print('Self-focusing distance s_f= {}m'.format(z_sf))\n",
    "print('Rayleight length z_r= {}m'.format(Rayleigth))"
   ]
  },
  {
   "cell_type": "markdown",
   "metadata": {},
   "source": [
    "# Adjust LIDT"
   ]
  },
  {
   "cell_type": "code",
   "execution_count": 114,
   "metadata": {},
   "outputs": [
    {
     "name": "stdout",
     "output_type": "stream",
     "text": [
      "Adjusted LIDT : 0.0005484084971070817 J/cm2\n",
      "Current fluence: 1.0941902337567802e-07 J/cm2\n"
     ]
    }
   ],
   "source": [
    "#Adjusted LIDT\n",
    "LIDT=0.2\n",
    "PulseWith_L=10E-9\n",
    "Wavelength_L=1064\n",
    "Wavelength=800\n",
    "AdjustedLIdt=LIDT*np.sqrt(PulseWidth/PulseWith_L)*np.sqrt(Wavelength/Wavelength_L)\n",
    "print('Adjusted LIDT : {} J/cm2'.format(AdjustedLIdt))\n",
    "print('Current fluence: {} J/cm2'.format(Fluence_cm))\n"
   ]
  },
  {
   "cell_type": "markdown",
   "metadata": {},
   "source": [
    "# Focused Beam size "
   ]
  },
  {
   "cell_type": "code",
   "execution_count": 110,
   "metadata": {},
   "outputs": [
    {
     "name": "stdout",
     "output_type": "stream",
     "text": [
      "Beam diameter at the focus spot:\n",
      "\t d=0.032513445014357115mm\n",
      "\t d=32.51344501435712um\n",
      "DOF:\n",
      "\t d=1.3005378005742845mm\n",
      "\t d=1300.5378005742848um\n",
      "NA=0.04995839572194276\n"
     ]
    }
   ],
   "source": [
    "BeamSize=5E-3# Beam radius size in m at the lens\n",
    "f=100E-3 # focal distance of the lens in m\n",
    "lambdac=1064E-9 # wavelength in m\n",
    "M=1.2 # Beam quality factor\n",
    "NA=np.arctan(BeamSize/f)\n",
    "\n",
    "wo=4*M*lambdac*f/(np.pi*BeamSize)/2\n",
    "\n",
    "\n",
    "print('Beam diameter at the focus spot:\\n\\t d={}mm\\n\\t d={}um'.format(2*wo*1E3,2*wo*1E6))\n",
    "print('DOF:\\n\\t d={}mm\\n\\t d={}um'.format(2*np.pi*(wo*1E3)**2/(M*(lambdac*1E3)),2*np.pi*(wo*1E6)**2/(M*(lambdac*1E6))))\n",
    "print('NA={}'.format(str(np.arctan(BeamSize/f))))"
   ]
  },
  {
   "cell_type": "markdown",
   "metadata": {},
   "source": [
    "# Compute Irradiance"
   ]
  },
  {
   "cell_type": "code",
   "execution_count": 15,
   "metadata": {},
   "outputs": [
    {
     "name": "stdout",
     "output_type": "stream",
     "text": [
      "Irradiance =442097064.14415365 W/cm2\n"
     ]
    }
   ],
   "source": [
    "AveragedPower=0.125E-3# Power in Watt\n",
    "BeamSize=3E-6# Beam radius size in m at the lens\n",
    "I=AveragedPower/((np.pi*(BeamSize*1E-1)**2))\n",
    "print('Irradiance ={} W/cm2'.format(I))"
   ]
  },
  {
   "cell_type": "markdown",
   "metadata": {},
   "source": [
    "# Wavelength Calibration Pixis"
   ]
  },
  {
   "cell_type": "code",
   "execution_count": 7,
   "metadata": {},
   "outputs": [],
   "source": [
    "#Compute wavelength\n",
    "a=2.354381287460651\n",
    "b=490.05901104995587\n",
    "PixelNumber=np.linspace(1,1024,1024)\n",
    "CenterPixel=700\n",
    "Wavelength=(PixelNumber-b)/a+CenterPixel"
   ]
  },
  {
   "cell_type": "markdown",
   "metadata": {},
   "source": [
    "# Misc"
   ]
  },
  {
   "cell_type": "code",
   "execution_count": 14,
   "metadata": {},
   "outputs": [
    {
     "name": "stdout",
     "output_type": "stream",
     "text": [
      "1002\n",
      "1001\n",
      "3\n",
      "1\n",
      "['c:/Document/Mes1x=40/', 'c:/Document/Mes3x=40/', 'c:/Document/Mes1001x=40/', 'c:/Document/Mes1002x=40/']\n"
     ]
    }
   ],
   "source": [
    "folder=['c:/Document/Mes1002x=40/','c:/Document/Mes1001x=40/','c:/Document/Mes3x=40/','c:/Document/Mes1x=40/']\n",
    "for t in folder:\n",
    "    print(t[t.find('Mes')+3:t.find('x')])\n",
    "print(sorted(folder, key=lambda x: float(x[x.find('Mes')+3:x.find('x')])))"
   ]
  }
 ],
 "metadata": {
  "kernelspec": {
   "display_name": "Python 3",
   "language": "python",
   "name": "python3"
  },
  "language_info": {
   "codemirror_mode": {
    "name": "ipython",
    "version": 3
   },
   "file_extension": ".py",
   "mimetype": "text/x-python",
   "name": "python",
   "nbconvert_exporter": "python",
   "pygments_lexer": "ipython3",
   "version": "3.11.4"
  }
 },
 "nbformat": 4,
 "nbformat_minor": 2
}
