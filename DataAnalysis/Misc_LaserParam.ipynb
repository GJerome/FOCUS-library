{
 "cells": [
  {
   "cell_type": "code",
   "execution_count": 44,
   "metadata": {},
   "outputs": [
    {
     "name": "stdout",
     "output_type": "stream",
     "text": [
      " Peak power =249999.99999999997W \n",
      " Energy per pulse = 2.5e-08 J\n",
      " \n",
      " Fluence=7.957747154594766e-07 J/cm2 \n",
      " Fluence=7.957747154594767e-09 J/mm2 \n",
      " Fluence=7.957747154594768e-15 J/um2 \n",
      "\n",
      " Damage threshold objectives 0.00031622776601683794 J/cm for a beam of 1 mm in diameter\n"
     ]
    }
   ],
   "source": [
    "import numpy as np\n",
    "\n",
    "AveragedPower=100E-3#power in W\n",
    "RepRate=4E6 # repetition rate in Hz\n",
    "BeamSize=1# Beam size in mm\n",
    "PulseWidth=100E-15 # pulse width in s\n",
    "\n",
    "Period=1/RepRate\n",
    "E_pulse=AveragedPower*Period\n",
    "Pusle_PeakPower=E_pulse/PulseWidth\n",
    "Fluence_mm=E_pulse/((np.pi*BeamSize**2))\n",
    "Fluence_um=E_pulse/((np.pi*(BeamSize*1E3)**2))\n",
    "Fluence_cm=E_pulse/((np.pi*(BeamSize*1E-1)**2))\n",
    "\n",
    "print(' Peak power ={}W \\n Energy per pulse = {} J\\n \\n Fluence={} J/cm2 \\n Fluence={} J/mm2 \\n Fluence={} J/um2 '.format(\n",
    "    Pusle_PeakPower,E_pulse,Fluence_cm,Fluence_mm,Fluence_um))\n",
    "\n",
    "DamageThreshold= 0.1 # Damage Thresshold in J/cm\n",
    "InitialPulseWidth=10E-9\n",
    "\n",
    "print('\\n Damage threshold objectives {} J/cm for a beam of {} mm in diameter'.format(DamageThreshold*np.sqrt(PulseWidth/InitialPulseWidth),BeamSize))"
   ]
  },
  {
   "cell_type": "code",
   "execution_count": 45,
   "metadata": {},
   "outputs": [
    {
     "name": "stdout",
     "output_type": "stream",
     "text": [
      "P_crit= 16706.410976194093[W]\n",
      "P_peak/P_c=14.964315217447904\n"
     ]
    }
   ],
   "source": [
    "# Critical power for WLG\n",
    "alpha=1.9\n",
    "lambdac=800\n",
    "n0=1.7552\n",
    "n2=3.3\n",
    "P_crit=alpha*lambdac**2/(4*np.pi*n0*n2)\n",
    "\n",
    "print('P_crit= {}[W]'.format(P_crit))\n",
    "print('P_peak/P_c={}'.format(Pusle_PeakPower/P_crit))"
   ]
  },
  {
   "cell_type": "code",
   "execution_count": 46,
   "metadata": {},
   "outputs": [
    {
     "name": "stdout",
     "output_type": "stream",
     "text": [
      "Adjusted LIDT : 0.07905694150420949\n"
     ]
    }
   ],
   "source": [
    "#Adjusted LIDT\n",
    "LIDT=25\n",
    "PulseWith_L=10E-9\n",
    "Wavelength_L=1064\n",
    "Wavelength=1064\n",
    "AdjustedLIdt=LIDT*np.sqrt(PulseWidth/PulseWith_L)*np.sqrt(Wavelength/Wavelength_L)\n",
    "print('Adjusted LIDT : {}'.format(AdjustedLIdt))\n"
   ]
  },
  {
   "cell_type": "code",
   "execution_count": 47,
   "metadata": {},
   "outputs": [
    {
     "name": "stdout",
     "output_type": "stream",
     "text": [
      "3.1830988618379066\n"
     ]
    }
   ],
   "source": [
    "I=AveragedPower/((np.pi*(BeamSize*1E-1)**2))\n",
    "print(I)"
   ]
  }
 ],
 "metadata": {
  "kernelspec": {
   "display_name": "Python 3",
   "language": "python",
   "name": "python3"
  },
  "language_info": {
   "codemirror_mode": {
    "name": "ipython",
    "version": 3
   },
   "file_extension": ".py",
   "mimetype": "text/x-python",
   "name": "python",
   "nbconvert_exporter": "python",
   "pygments_lexer": "ipython3",
   "version": "3.11.3"
  }
 },
 "nbformat": 4,
 "nbformat_minor": 2
}
