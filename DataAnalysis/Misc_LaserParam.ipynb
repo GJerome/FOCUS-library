{
 "cells": [
  {
   "cell_type": "markdown",
   "metadata": {},
   "source": [
    "# Fluence calculator"
   ]
  },
  {
   "cell_type": "code",
   "execution_count": 1,
   "metadata": {},
   "outputs": [
    {
     "name": "stdout",
     "output_type": "stream",
     "text": [
      " Peak power =0.04999999999999999W \n",
      " Energy per pulse = 4.999999999999999e-15 J\n",
      " \n",
      "Irradiance= 1.1014182912933932 W/cm2\n",
      "\n",
      " Fluence=5.5070914564669653e-08 J/cm2 \n",
      " Fluence=5.507091456466966e-10 J/mm2 \n",
      " Fluence=5.507091456466967e-16 J/um2 \n",
      "\n",
      " Damage threshold objectives 0.00031622776601683794 J/cm for a beam of 0.0017 mm in diameter\n"
     ]
    }
   ],
   "source": [
    "import numpy as np\n",
    "\n",
    "AveragedPower=0.1E-6#power in W\n",
    "RepRate=20E6# repetition rate in Hz\n",
    "BeamSize=1.7E-3# Beam radius size in mm\n",
    "PulseWidth=100E-15 # pulse width in s\n",
    "\n",
    "Period=1/RepRate\n",
    "E_pulse=AveragedPower*Period\n",
    "Pusle_PeakPower=E_pulse/PulseWidth\n",
    "Irradiance=AveragedPower/((np.pi*(BeamSize*1E-1)**2))\n",
    "Fluence_mm=E_pulse/((np.pi*BeamSize**2))\n",
    "Fluence_um=E_pulse/((np.pi*(BeamSize*1E3)**2))\n",
    "Fluence_cm=E_pulse/((np.pi*(BeamSize*1E-1)**2))\n",
    "\n",
    "print(' Peak power ={}W \\n Energy per pulse = {} J\\n \\nIrradiance= {} W/cm2\\n\\n Fluence={} J/cm2 \\n Fluence={} J/mm2 \\n Fluence={} J/um2 '.format(\n",
    "    Pusle_PeakPower,E_pulse,Irradiance,Fluence_cm,Fluence_mm,Fluence_um))\n",
    "\n",
    "DamageThreshold= 0.1 # Damage Thresshold in J/cm\n",
    "InitialPulseWidth=10E-9\n",
    "\n",
    "print('\\n Damage threshold objectives {} J/cm for a beam of {} mm in diameter'.format(DamageThreshold*np.sqrt(PulseWidth/InitialPulseWidth),BeamSize))"
   ]
  },
  {
   "cell_type": "markdown",
   "metadata": {},
   "source": [
    "# Compute density of carrier generated"
   ]
  },
  {
   "cell_type": "code",
   "execution_count": null,
   "metadata": {},
   "outputs": [],
   "source": [
    "Wavelength=450E-9\n",
    "FilmThickness=600E-9\n",
    "Abs=0.8\n",
    "h=6.626 *1E-34\n",
    "c=2.998*1E8\n",
    "E_photon=h*c/Wavelength\n",
    "Fluence_cm_Photons=Fluence_cm/E_photon\n",
    "N0=Abs*Fluence_cm_Photons/(FilmThickness*1E2)"
   ]
  },
  {
   "cell_type": "code",
   "execution_count": 2,
   "metadata": {},
   "outputs": [
    {
     "name": "stdout",
     "output_type": "stream",
     "text": [
      "To reach 237.5 at 20.0 MHz the avg power need to be 0.47500000000000003 mW\n"
     ]
    }
   ],
   "source": [
    "Pusle_PeakPower=237.5# in W\n",
    "\n",
    "PowerToReachPeak=(Pusle_PeakPower*PulseWidth*RepRate)\n",
    "print('To reach {} at {} MHz the avg power need to be {} mW'.format(Pusle_PeakPower,RepRate/1E6,PowerToReachPeak*1E3))"
   ]
  },
  {
   "cell_type": "markdown",
   "metadata": {},
   "source": [
    "# White light calculator "
   ]
  },
  {
   "cell_type": "code",
   "execution_count": 3,
   "metadata": {},
   "outputs": [
    {
     "name": "stdout",
     "output_type": "stream",
     "text": [
      "P_crit= 175.8569576441483[W]\n",
      "P_peak/P_c=1.350529448374674\n",
      "Self-focusing distance s_f= 0.023204266113049595m\n",
      "Rayleight length z_r= 0.017231635704940018m\n"
     ]
    }
   ],
   "source": [
    "# Critical power for WLG\n",
    "alpha=1\n",
    "lambdac=0.8E-6 #wavelength in m\n",
    "BeamSize=50E-6# Beam radius size in m\n",
    "\n",
    "n0=1.7552\n",
    "n2=3.3E-16\n",
    "P_crit=alpha*lambdac**2/(2*np.pi*n0*n2)\n",
    "zr=np.pi*n0*BeamSize**2/lambdac\n",
    "z_sf=0.367*zr/np.sqrt(((np.sqrt(Pusle_PeakPower/P_crit)-0.852))**2-0.0219)\n",
    "\n",
    "Rayleigth=np.pi*n0*BeamSize**2/lambdac\n",
    "\n",
    "print('P_crit= {}[W]'.format(P_crit))\n",
    "print('P_peak/P_c={}'.format(Pusle_PeakPower/P_crit))\n",
    "print('Self-focusing distance s_f= {}m'.format(z_sf))\n",
    "print('Rayleight length z_r= {}m'.format(Rayleigth))"
   ]
  },
  {
   "cell_type": "markdown",
   "metadata": {},
   "source": [
    "# Adjust LIDT"
   ]
  },
  {
   "cell_type": "code",
   "execution_count": 4,
   "metadata": {},
   "outputs": [
    {
     "name": "stdout",
     "output_type": "stream",
     "text": [
      "Adjusted LIDT : 0.0005484084971070817 J/cm2\n",
      "Current fluence: 5.5070914564669653e-08 J/cm2\n"
     ]
    }
   ],
   "source": [
    "#Adjusted LIDT\n",
    "LIDT=0.2\n",
    "PulseWith_L=10E-9\n",
    "Wavelength_L=1064\n",
    "Wavelength=800\n",
    "AdjustedLIdt=LIDT*np.sqrt(PulseWidth/PulseWith_L)*np.sqrt(Wavelength/Wavelength_L)\n",
    "print('Adjusted LIDT : {} J/cm2'.format(AdjustedLIdt))\n",
    "print('Current fluence: {} J/cm2'.format(Fluence_cm))\n"
   ]
  },
  {
   "cell_type": "markdown",
   "metadata": {},
   "source": [
    "# Focused Beam size "
   ]
  },
  {
   "cell_type": "code",
   "execution_count": 5,
   "metadata": {},
   "outputs": [
    {
     "name": "stdout",
     "output_type": "stream",
     "text": [
      "Beam diameter at the focus spot:\n",
      "\t d=0.032513445014357115mm\n",
      "\t d=32.51344501435712um\n",
      "DOF:\n",
      "\t d=1.3005378005742845mm\n",
      "\t d=1300.5378005742848um\n",
      "NA=0.04995839572194276\n"
     ]
    }
   ],
   "source": [
    "BeamSize=5E-3# Beam radius size in m at the lens\n",
    "f=100E-3 # focal distance of the lens in m\n",
    "lambdac=1064E-9 # wavelength in m\n",
    "M=1.2 # Beam quality factor\n",
    "NA=np.arctan(BeamSize/f)\n",
    "\n",
    "wo=4*M*lambdac*f/(np.pi*BeamSize)/2\n",
    "\n",
    "\n",
    "print('Beam diameter at the focus spot:\\n\\t d={}mm\\n\\t d={}um'.format(2*wo*1E3,2*wo*1E6))\n",
    "print('DOF:\\n\\t d={}mm\\n\\t d={}um'.format(2*np.pi*(wo*1E3)**2/(M*(lambdac*1E3)),2*np.pi*(wo*1E6)**2/(M*(lambdac*1E6))))\n",
    "print('NA={}'.format(str(np.arctan(BeamSize/f))))"
   ]
  },
  {
   "cell_type": "markdown",
   "metadata": {},
   "source": [
    "# Compute Irradiance"
   ]
  },
  {
   "cell_type": "code",
   "execution_count": 6,
   "metadata": {},
   "outputs": [
    {
     "name": "stdout",
     "output_type": "stream",
     "text": [
      "Irradiance =442097064.14415365 W/cm2\n"
     ]
    }
   ],
   "source": [
    "AveragedPower=0.125E-3# Power in Watt\n",
    "BeamSize=3E-6# Beam radius size in m at the lens\n",
    "I=AveragedPower/((np.pi*(BeamSize*1E-1)**2))\n",
    "print('Irradiance ={} W/cm2'.format(I))"
   ]
  },
  {
   "cell_type": "markdown",
   "metadata": {},
   "source": [
    "# Wavelength Calibration Pixis"
   ]
  },
  {
   "cell_type": "code",
   "execution_count": 7,
   "metadata": {},
   "outputs": [],
   "source": [
    "#Compute wavelength\n",
    "a=2.354381287460651\n",
    "b=490.05901104995587\n",
    "PixelNumber=np.linspace(1,1024,1024)\n",
    "CenterPixel=700\n",
    "Wavelength=(PixelNumber-b)/a+CenterPixel"
   ]
  },
  {
   "cell_type": "markdown",
   "metadata": {},
   "source": [
    "# Misc"
   ]
  },
  {
   "cell_type": "code",
   "execution_count": 8,
   "metadata": {},
   "outputs": [
    {
     "name": "stdout",
     "output_type": "stream",
     "text": [
      "1002\n",
      "1001\n",
      "3\n",
      "1\n",
      "['c:/Document/Mes1x=40/', 'c:/Document/Mes3x=40/', 'c:/Document/Mes1001x=40/', 'c:/Document/Mes1002x=40/']\n"
     ]
    }
   ],
   "source": [
    "folder=['c:/Document/Mes1002x=40/','c:/Document/Mes1001x=40/','c:/Document/Mes3x=40/','c:/Document/Mes1x=40/']\n",
    "for t in folder:\n",
    "    print(t[t.find('Mes')+3:t.find('x')])\n",
    "print(sorted(folder, key=lambda x: float(x[x.find('Mes')+3:x.find('x')])))"
   ]
  },
  {
   "cell_type": "code",
   "execution_count": 9,
   "metadata": {},
   "outputs": [
    {
     "ename": "AttributeError",
     "evalue": "'float' object has no attribute 'b'",
     "output_type": "error",
     "traceback": [
      "\u001b[1;31m---------------------------------------------------------------------------\u001b[0m",
      "\u001b[1;31mAttributeError\u001b[0m                            Traceback (most recent call last)",
      "Input \u001b[1;32mIn [9]\u001b[0m, in \u001b[0;36m<cell line: 6>\u001b[1;34m()\u001b[0m\n\u001b[0;32m      3\u001b[0m     obj\u001b[38;5;241m.\u001b[39mb[\u001b[38;5;241m0\u001b[39m] \u001b[38;5;241m=\u001b[39m \u001b[38;5;241m0\u001b[39m\n\u001b[0;32m      5\u001b[0m \u001b[38;5;66;03m# Create an instance with b = [1, 2]\u001b[39;00m\n\u001b[1;32m----> 6\u001b[0m \u001b[43ma\u001b[49m\u001b[38;5;241;43m.\u001b[39;49m\u001b[43mb\u001b[49m \u001b[38;5;241m=\u001b[39m [\u001b[38;5;241m1\u001b[39m, \u001b[38;5;241m2\u001b[39m]\n\u001b[0;32m      7\u001b[0m \u001b[38;5;28mprint\u001b[39m(\u001b[38;5;124m\"\u001b[39m\u001b[38;5;124mBefore:\u001b[39m\u001b[38;5;124m\"\u001b[39m, a\u001b[38;5;241m.\u001b[39mb)  \u001b[38;5;66;03m# Output: [1, 2]\u001b[39;00m\n\u001b[0;32m      9\u001b[0m \u001b[38;5;66;03m# Call the function to update a.b\u001b[39;00m\n",
      "\u001b[1;31mAttributeError\u001b[0m: 'float' object has no attribute 'b'"
     ]
    }
   ],
   "source": [
    "\n",
    "\n",
    "def update_b(obj):\n",
    "    # Modify the first element of the list\n",
    "    obj.b[0] = 0\n",
    "\n",
    "# Create an instance with b = [1, 2]\n",
    "a.b = [1, 2]\n",
    "print(\"Before:\", a.b)  # Output: [1, 2]\n",
    "\n",
    "# Call the function to update a.b\n",
    "update_b(a)\n",
    "print(\"After:\", a.b)   # Output: [0, 2]\n"
   ]
  }
 ],
 "metadata": {
  "kernelspec": {
   "display_name": "Python 3",
   "language": "python",
   "name": "python3"
  },
  "language_info": {
   "codemirror_mode": {
    "name": "ipython",
    "version": 3
   },
   "file_extension": ".py",
   "mimetype": "text/x-python",
   "name": "python",
   "nbconvert_exporter": "python",
   "pygments_lexer": "ipython3",
   "version": "3.10.5"
  }
 },
 "nbformat": 4,
 "nbformat_minor": 2
}
